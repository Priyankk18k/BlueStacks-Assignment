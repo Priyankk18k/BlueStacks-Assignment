{
  "nbformat": 4,
  "nbformat_minor": 0,
  "metadata": {
    "colab": {
      "name": "Setu.ipynb",
      "provenance": [],
      "authorship_tag": "ABX9TyMxYenmQmNiEDIiq4VQL5eY",
      "include_colab_link": true
    },
    "kernelspec": {
      "name": "python3",
      "display_name": "Python 3"
    },
    "language_info": {
      "name": "python"
    }
  },
  "cells": [
    {
      "cell_type": "markdown",
      "metadata": {
        "id": "view-in-github",
        "colab_type": "text"
      },
      "source": [
        "<a href=\"https://colab.research.google.com/github/Priyankk18k/BlueStacks-Assignment/blob/main/DIrection.ipynb\" target=\"_parent\"><img src=\"https://colab.research.google.com/assets/colab-badge.svg\" alt=\"Open In Colab\"/></a>"
      ]
    },
    {
      "cell_type": "code",
      "metadata": {
        "id": "AB0zgNUTBSp2",
        "colab": {
          "base_uri": "https://localhost:8080/"
        },
        "outputId": "b272a5c2-1e4e-458d-819c-711ec9b32ca8"
      },
      "source": [
        "input  = \"0,2,E;10,10;LFRFLRF\"\n",
        "\n",
        "splitted = input.split(\";\")\n",
        "directions = splitted[2]\n",
        "coordinates_x = splitted[0].split(\",\")[0]\n",
        "coordinates_y = splitted[0].split(\",\")[1]\n",
        "initial_direction = splitted[0].split(\",\")[2]\n",
        "\n",
        "size_of_world = splitted[1]\n",
        "\n",
        "# new_direction = \"\"\n",
        "\n",
        "def direction_update(initial_direction,coordinates_y,coordinates_x):\n",
        "  if initial_direction == \"N\":\n",
        "      coordinates_y = int(coordinates_y) + 1\n",
        "  elif initial_direction == \"S\":\n",
        "    coordinates_y = int(coordinates_y) - 1\n",
        "  elif initial_direction == \"E\":\n",
        "      coordinates_x = int(coordinates_x) + 1\n",
        "  elif initial_direction == \"W\":\n",
        "      coordinates_x = int(coordinates_x) - 1\n",
        "  return coordinates_x,coordinates_y, initial_direction         \n",
        "\n",
        "\n",
        "direction_map = {\"E\":{\"left\":\"N\", \"right\":\"S\"},\"W\":{\"left\":\"S\", \"right\":\"N\"},\"N\":{\"left\":\"W\", \"right\":\"E\"}, \"S\":{\"left\":\"E\", \"right\":\"W\"}}\n",
        "for i in directions:\n",
        "  if i == \"L\":\n",
        "    initial_direction = direction_map[initial_direction][\"left\"]\n",
        "    coordinates_x, coordinates_y, initial_direction = direction_update(initial_direction,coordinates_y,coordinates_x)\n",
        "  elif i == \"F\":\n",
        "    coordinates_x, coordinates_y, initial_direction = direction_update(initial_direction,coordinates_y,coordinates_x)\n",
        "  elif i == \"R\":\n",
        "    initial_direction = direction_map[initial_direction][\"right\"]\n",
        "    coordinates_x, coordinates_y, initial_direction = direction_update(initial_direction,coordinates_y,coordinates_x) \n",
        "\n",
        "print(coordinates_x,coordinates_y, initial_direction)"
      ],
      "execution_count": null,
      "outputs": [
        {
          "output_type": "stream",
          "text": [
            "4 5 E\n"
          ],
          "name": "stdout"
        }
      ]
    }
  ]
}